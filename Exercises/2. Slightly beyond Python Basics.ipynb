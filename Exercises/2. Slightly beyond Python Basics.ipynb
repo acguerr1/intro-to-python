{
 "cells": [
  {
   "cell_type": "markdown",
   "metadata": {},
   "source": [
    "# Exercises Part 2"
   ]
  },
  {
   "cell_type": "markdown",
   "metadata": {},
   "source": [
    "### 1. Exercise\n",
    "Ask the user to enter a name. Then pass that name to a function that prints \"Hello \" and the entered name."
   ]
  },
  {
   "cell_type": "code",
   "execution_count": null,
   "metadata": {},
   "outputs": [],
   "source": [
    "# code\n"
   ]
  },
  {
   "cell_type": "markdown",
   "metadata": {},
   "source": [
    "### 2. Exercise\n",
    "Ask the user to enter a paragraph with multiple sentences. Then split the entered text at its periods, reverse the sentence order, and print them."
   ]
  },
  {
   "cell_type": "code",
   "execution_count": null,
   "metadata": {},
   "outputs": [],
   "source": [
    "# code"
   ]
  },
  {
   "cell_type": "markdown",
   "metadata": {},
   "source": [
    "### 3. Exercise\n",
    "Ask the user to enter a text. Then tell the user if the text contains the words \"cat\" or \"dog\" (independent if it's upper case or lower case)."
   ]
  },
  {
   "cell_type": "code",
   "execution_count": null,
   "metadata": {},
   "outputs": [],
   "source": [
    "# code"
   ]
  },
  {
   "cell_type": "markdown",
   "metadata": {},
   "source": [
    "### 4. Exercise\n",
    "Ask the user to enter a text. Then find all words that end with \"ing\" and print the part of the word before \"ing\"."
   ]
  },
  {
   "cell_type": "code",
   "execution_count": null,
   "metadata": {},
   "outputs": [],
   "source": [
    "# code"
   ]
  },
  {
   "cell_type": "markdown",
   "metadata": {},
   "source": [
    "### 5. Exercise\n",
    "Write a program that encrypts a text, but exchanging each character with a different one (e.g. instead of 'a' use 'e', instead of 'l' use 't', instead of 'c' use 'd', instead of 't' use 'z', instead of 'r' use 's', so that 'Alcatraz' becomes 'Etdezse"
   ]
  }
 ],
 "metadata": {
  "kernelspec": {
   "display_name": "Python 3",
   "language": "python",
   "name": "python3"
  },
  "language_info": {
   "codemirror_mode": {
    "name": "ipython",
    "version": 3
   },
   "file_extension": ".py",
   "mimetype": "text/x-python",
   "name": "python",
   "nbconvert_exporter": "python",
   "pygments_lexer": "ipython3",
   "version": "3.6.5"
  }
 },
 "nbformat": 4,
 "nbformat_minor": 2
}
